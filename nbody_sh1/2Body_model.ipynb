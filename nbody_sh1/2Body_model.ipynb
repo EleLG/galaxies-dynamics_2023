{
 "cells": [
  {
   "cell_type": "code",
   "execution_count": 3,
   "id": "93ab38d3",
   "metadata": {},
   "outputs": [],
   "source": [
    "import os\n",
    "import numpy as np\n",
    "import math\n",
    "from scipy.integrate import odeint\n",
    "import matplotlib.pyplot as plt\n",
    "import matplotlib.animation as animation\n",
    "from typing import List, Any, Dict, Tuple\n",
    "\n",
    "plt.rcParams['axes.grid'] = True\n"
   ]
  },
  {
   "cell_type": "code",
   "execution_count": 4,
   "id": "f31c8109",
   "metadata": {},
   "outputs": [],
   "source": [
    "def two_body_eqm(_y, _t, _G, _m1, _m2):\n",
    "    \"\"\"\n",
    "    differential equations of motion describing the 2-body problem\n",
    "    _t: discrete time step value\n",
    "    _y: state vector\n",
    "    \"\"\"\n",
    "    \n",
    "    # magnitude of position vector from r1 to r2\n",
    "    r_mag = np.linalg.norm(_y[3:6] - _y[:3])\n",
    "    # r_mag = np.sqrt((_y[0] - _y[3])**2 + (_y[1] - _y[4])**2)\n",
    "    c0 = _y[6:12]\n",
    "    c1 = _G * _m2 * ((_y[3:6] - _y[:3]) / np.power(r_mag, 3))\n",
    "    c2 = _G * _m1 * ((_y[:3] - _y[3:6]) / np.power(r_mag, 3))\n",
    "    return np.concatenate((c0, c1, c2))\n",
    "\n"
   ]
  },
  {
   "cell_type": "code",
   "execution_count": 5,
   "id": "5b777597",
   "metadata": {},
   "outputs": [],
   "source": [
    "def two_body_analytical(_r, _t, _omega, _phase, _G, _m1, _m2) -> Dict[str, Any]:\n",
    "    \"\"\"\n",
    "    Analytical solution of the 2 body problem. Assuming e = 1\n",
    "    \"\"\"\n",
    "    \n",
    "    # Defining a dictionary in which I want to put my results as final distance, phase and angular velocity\n",
    "    results = {}\n",
    "    \n",
    "    e = 1\n",
    "    omega = np.sqrt(_G*(_m1 + _m2)/_r)\n",
    "    phi = omega * _t\n",
    "     \n",
    "    \n",
    "    # Angular momentum 'l = r^2 * phi_dot'\n",
    "    l = _r * _r *  omega\n",
    "    \n",
    "    #Distance after a time _t\n",
    "    r_mag_fin = l**l/((e * math.cos(omega * _t) + 1) * _G * (_m1 + _m2))\n",
    "    \n",
    "    #Filling the dictionary with the results\n",
    "    results[\"distance\"] = r_mag_fin\n",
    "    results[\"phase\"] = phi\n",
    "    results[\"ang_vel\"] = omega\n",
    "    \n",
    "    return results "
   ]
  },
  {
   "cell_type": "code",
   "execution_count": 15,
   "id": "bed5d6bb",
   "metadata": {},
   "outputs": [],
   "source": [
    "# Gravitation constant\n",
    "# G = 6.67408e-11 (m**3/kg/s**2)\n",
    "G = 1 \n",
    "\n",
    "# Array of times\n",
    "time = np.arange(0, 1, 0.1)\n",
    "\n",
    "# m1 initial conditions\n",
    "m1 = 1\n",
    "r10 = np.array([0.9700436, -0.24308753, 0.])\n",
    "v10 = np.array([0.466203685, 0.43236573, 0.])\n",
    "\n",
    "\n",
    "# m2 initial conditions\n",
    "m2 = 1\n",
    "r20 = np.array([-0.9700436, 0.24308753, 0.])\n",
    "v20 = np.array([0.466203685, 0.43236573, 0.])\n",
    "\n",
    "\n",
    "# [X1 (0), Y1 (1), Z1 (2), X2 (3), Y2 (4), Z2 (5), VX1 (6), VY1 (7), VZ1 (8), VX2 (9), VY2 (10), VZ2 (11)]\n",
    "y0 = np.concatenate((r10, r20, v10, v20))\n"
   ]
  },
  {
   "cell_type": "markdown",
   "id": "c44d63f4",
   "metadata": {},
   "source": [
    "Now I have to propagate the state, and write the results of the simulation"
   ]
  },
  {
   "cell_type": "code",
   "execution_count": 19,
   "id": "d97120f4",
   "metadata": {},
   "outputs": [
    {
     "name": "stdout",
     "output_type": "stream",
     "text": [
      "[83.14414594741069, inf, nan, nan, nan, nan, nan, nan, nan, nan]\n",
      "[0.9999809676199979, 0.15509548654070912, 0.0, nan, nan, nan, nan, nan, nan, nan]\n",
      "[0.9999619356022272, 0.15509253470447268, 0.0, nan, nan, nan, nan, nan, nan, nan]\n"
     ]
    },
    {
     "name": "stderr",
     "output_type": "stream",
     "text": [
      "C:\\Users\\simoa\\AppData\\Local\\Temp\\ipykernel_40572\\1915850429.py:18: RuntimeWarning: overflow encountered in double_scalars\n",
      "  r_mag_fin = l**l/((e * math.cos(omega * _t) + 1) * _G * (_m1 + _m2))\n",
      "C:\\Users\\simoa\\AppData\\Local\\Temp\\ipykernel_40572\\1915850429.py:15: RuntimeWarning: invalid value encountered in double_scalars\n",
      "  l = _r * _r *  omega\n"
     ]
    }
   ],
   "source": [
    "r = []\n",
    "omega = []\n",
    "phi = []\n",
    "\n",
    "# Setting the initial distance. After each step, the distance should be the result of the previous step\n",
    "r_initial = np.linalg.norm(y0[3:6] - y0[:3])\n",
    "phi_init = 0\n",
    "omega_init = np.sqrt(G*(m1 + m2)/r_initial)\n",
    "\n",
    "for x in time:\n",
    "    result = {}\n",
    "    result = two_body_analytical(r_initial, omega_init, phi_init, x, G, m1, m2)\n",
    "    r_initial = result[\"distance\"]\n",
    "    phi_init = result[\"phase\"]\n",
    "    omega_init = result[\"ang_vel\"]\n",
    "    r.append(r_initial)\n",
    "    omega.append(omega_init)\n",
    "    phi.append(phi_init)\n",
    "        \n",
    "print(r)\n",
    "print(omega)\n",
    "print(phi)"
   ]
  },
  {
   "cell_type": "markdown",
   "id": "72b9afdc",
   "metadata": {},
   "source": [
    "Plotting the relative distance between the 2 particles"
   ]
  },
  {
   "cell_type": "code",
   "execution_count": 17,
   "id": "466f3bd8",
   "metadata": {},
   "outputs": [
    {
     "data": {
      "text/plain": [
       "[<matplotlib.lines.Line2D at 0x1bfb4ff1a60>]"
      ]
     },
     "execution_count": 17,
     "metadata": {},
     "output_type": "execute_result"
    },
    {
     "data": {
      "image/png": "[encoded data removed]",
      "text/plain": [
       "<Figure size 640x480 with 1 Axes>"
      ]
     },
     "metadata": {},
     "output_type": "display_data"
    }
   ],
   "source": [
    "#config plot\n",
    "import numpy as np\n",
    "import matplotlib.pyplot as plt\n",
    "\n",
    "plt.plot(time, r, \"red\")\n"
   ]
  },
  {
   "cell_type": "code",
   "execution_count": null,
   "id": "a72e0dd9",
   "metadata": {},
   "outputs": [],
   "source": []
  }
 ],
 "metadata": {
  "kernelspec": {
   "display_name": "Python 3 (ipykernel)",
   "language": "python",
   "name": "python3"
  },
  "language_info": {
   "codemirror_mode": {
    "name": "ipython",
    "version": 3
   },
   "file_extension": ".py",
   "mimetype": "text/x-python",
   "name": "python",
   "nbconvert_exporter": "python",
   "pygments_lexer": "ipython3",
   "version": "3.9.13"
  }
 },
 "nbformat": 4,
 "nbformat_minor": 5
}
